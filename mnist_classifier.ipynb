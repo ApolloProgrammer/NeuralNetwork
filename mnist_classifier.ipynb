{
  "nbformat": 4,
  "nbformat_minor": 0,
  "metadata": {
    "colab": {
      "name": "mnist_classifier",
      "version": "0.3.2",
      "provenance": [],
      "collapsed_sections": [],
      "include_colab_link": true
    },
    "kernelspec": {
      "name": "python3",
      "display_name": "Python 3"
    },
    "accelerator": "GPU"
  },
  "cells": [
    {
      "cell_type": "markdown",
      "metadata": {
        "id": "view-in-github",
        "colab_type": "text"
      },
      "source": [
        "<a href=\"https://colab.research.google.com/github/ApolloProgrammer/NeuralNetwork/blob/master/mnist_classifier.ipynb\" target=\"_parent\"><img src=\"https://colab.research.google.com/assets/colab-badge.svg\" alt=\"Open In Colab\"/></a>"
      ]
    },
    {
      "cell_type": "code",
      "metadata": {
        "id": "f44qewSvS5Ho",
        "colab_type": "code",
        "colab": {}
      },
      "source": [
        "import numpy\n",
        "import scipy.special"
      ],
      "execution_count": 0,
      "outputs": []
    },
    {
      "cell_type": "code",
      "metadata": {
        "id": "2xSyZo5bTQWb",
        "colab_type": "code",
        "colab": {}
      },
      "source": [
        "# neural network class definition\n",
        "class NeuralNet:\n",
        "\n",
        "    def __init__(self, inputnodes, hiddennodes, outputnodes, learningrate):\n",
        "        self.inputnodes = inputnodes\n",
        "        self.hiddennodes = hiddennodes\n",
        "        self.outputnodes = outputnodes\n",
        "        #matrices containing the wheights\n",
        "        self.wih = numpy.random.normal(0.0, pow(self.inputnodes, -0.5), (self.hiddennodes, self.inputnodes))\n",
        "        self.who = numpy.random.normal(0.0, pow(self.hiddennodes, -0.5), (self.outputnodes, self.hiddennodes))\n",
        "        #biases\n",
        "        self.bias_ih=numpy.random.normal(0.0, pow(self.inputnodes, -0.5),(self.hiddennodes,1))\n",
        "        self.bias_ho=numpy.random.normal(0.0, pow(self.hiddennodes, -0.5),(self.outputnodes,1))\n",
        "        #learningrate\n",
        "        self.lr = learningrate\n",
        "        #activation functions (sigmoid)\n",
        "        self.activation_function = lambda x: scipy.special.expit(x)\n",
        "        self.inverse_activation_function = lambda x: scipy.special.logit(x)\n",
        "\n",
        "    # train the neural network\n",
        "    def train(self, inputs_list, targets_list):\n",
        "        # convert inputs list to 2d array\n",
        "        inputs = numpy.array(inputs_list, ndmin=2).T\n",
        "        targets = numpy.array(targets_list, ndmin=2).T\n",
        "\n",
        "        # calculate signals into hidden layer/ wheighted sum\n",
        "        hidden_inputs = numpy.dot(self.wih, inputs)\n",
        "        hidden_inputs += self.bias_ih\n",
        "        # calculate the signals emerging from hidden layer\n",
        "        hidden_outputs = self.activation_function(hidden_inputs)\n",
        "\n",
        "        # calculate signals into final output layer\n",
        "        final_inputs = numpy.dot(self.who, hidden_outputs)\n",
        "        final_inputs += self.bias_ho\n",
        "        # calculate the signals emerging from final output layer\n",
        "        final_outputs = self.activation_function(final_inputs)\n",
        "\n",
        "        # output layer error is the (target - actual)\n",
        "        output_errors = targets - final_outputs\n",
        "        # hidden layer error is the output_errors, split by weights, recombined at hidden nodes\n",
        "        hidden_errors = numpy.dot(self.who.T, output_errors)\n",
        "\n",
        "        # update the weights for the links between the hidden and output layers\n",
        "        self.who += self.lr * numpy.dot((output_errors * final_outputs * (1.0 - final_outputs)),numpy.transpose(hidden_outputs))\n",
        "        self.bias_ho += self.lr * (output_errors * final_outputs * (1.0 - final_outputs))\n",
        "        # update the weights for the links between the input and hidden layers\n",
        "        self.wih += self.lr * numpy.dot((hidden_errors * hidden_outputs * (1.0 - hidden_outputs)),numpy.transpose(inputs))\n",
        "        self.bias_ih += self.lr * (hidden_errors * hidden_outputs * (1.0 - hidden_outputs))\n",
        "\n",
        "\n",
        "    # query the neural network\n",
        "    def query(self, inputs_list):\n",
        "        # convert inputs list to 2d array\n",
        "        inputs = numpy.array(inputs_list, ndmin=2).T\n",
        "\n",
        "        # calculate signals into hidden layer\n",
        "        hidden_inputs = numpy.dot(self.wih, inputs)\n",
        "        hidden_inputs+=self.bias_ih\n",
        "        # calculate the signals emerging from hidden layer\n",
        "        hidden_outputs = self.activation_function(hidden_inputs)\n",
        "\n",
        "        # calculate signals into final output layer\n",
        "        final_inputs = numpy.dot(self.who, hidden_outputs)\n",
        "        final_inputs+=self.bias_ho\n",
        "        # calculate the signals emerging from final output layer\n",
        "        final_outputs = self.activation_function(final_inputs)\n",
        "\n",
        "        return final_outputs\n",
        "\n",
        "    # backquery the neural network\n",
        "    # we'll use the same termnimology to each item,\n",
        "    # eg target are the values at the right of the network, albeit used as input\n",
        "    # eg hidden_output is the signal to the right of the middle nodes\n",
        "    def backquery(self, targets_list):\n",
        "        # transpose the targets list to a vertical array\n",
        "        final_outputs = numpy.array(targets_list, ndmin=2).T\n",
        "\n",
        "        # calculate the signal into the final output layer\n",
        "        final_inputs = self.inverse_activation_function(final_outputs)\n",
        "\n",
        "        # calculate the signal out of the hidden layer\n",
        "        hidden_outputs = numpy.dot(self.who.T, final_inputs)\n",
        "        # scale them back to 0.01 to .99\n",
        "        hidden_outputs -= numpy.min(hidden_outputs)\n",
        "        hidden_outputs /= numpy.max(hidden_outputs)\n",
        "        hidden_outputs *= 0.98\n",
        "        hidden_outputs += 0.01\n",
        "\n",
        "        # calculate the signal into the hidden layer\n",
        "        hidden_inputs = self.inverse_activation_function(hidden_outputs)\n",
        "\n",
        "        # calculate the signal out of the input layer\n",
        "        inputs = numpy.dot(self.wih.T, hidden_inputs)\n",
        "        # scale them back to 0.01 to .99\n",
        "        inputs -= numpy.min(inputs)\n",
        "        inputs /= numpy.max(inputs)\n",
        "        inputs *= 0.98\n",
        "        inputs += 0.01\n",
        "\n",
        "        return inputs\n"
      ],
      "execution_count": 0,
      "outputs": []
    },
    {
      "cell_type": "code",
      "metadata": {
        "id": "N-yZcFAdTY6e",
        "colab_type": "code",
        "colab": {}
      },
      "source": [
        "# number of input, hidden and output nodes\n",
        "input_nodes = 784\n",
        "hidden_nodes = 200\n",
        "output_nodes = 10\n",
        "# learning rate\n",
        "learning_rate = 0.1\n",
        "\n",
        "# create instance of neural network\n",
        "brain = NeuralNet(input_nodes,hidden_nodes,output_nodes,learning_rate)"
      ],
      "execution_count": 0,
      "outputs": []
    },
    {
      "cell_type": "code",
      "metadata": {
        "id": "kI9lxFt2Y5Yq",
        "colab_type": "code",
        "colab": {}
      },
      "source": [
        "# load the mnist training data CSV file into a list\n",
        "training_data_file = open(\"sample_data/mnist_train_small.csv\", 'r')\n",
        "training_data_list = training_data_file.readlines()\n",
        "training_data_file.close()"
      ],
      "execution_count": 0,
      "outputs": []
    },
    {
      "cell_type": "code",
      "metadata": {
        "id": "Hc5-ac5OZiJU",
        "colab_type": "code",
        "colab": {}
      },
      "source": [
        "# train the neural network\n",
        "\n",
        "# epochs is the number of times the training data set is used for training\n",
        "epochs = 5\n",
        "\n",
        "for e in range(epochs):\n",
        "    # go through all records in the training data set\n",
        "    for record in training_data_list:\n",
        "        # split the record by the ',' commas\n",
        "        all_values = record.split(',')\n",
        "        # scale and shift the inputs\n",
        "        inputs = (numpy.asfarray(all_values[1:]) / 255.0 * 0.99) + 0.01\n",
        "        # create the target output values (all 0.01, except the desired label which is 0.99)\n",
        "        targets = numpy.zeros(output_nodes) + 0.01\n",
        "        # all_values[0] is the target label for this record\n",
        "        targets[int(all_values[0])] = 0.99\n",
        "        brain.train(inputs, targets)\n",
        "        pass\n",
        "    pass"
      ],
      "execution_count": 0,
      "outputs": []
    },
    {
      "cell_type": "code",
      "metadata": {
        "id": "5y8WDVftaXpz",
        "colab_type": "code",
        "colab": {}
      },
      "source": [
        "# load the mnist test data CSV file into a list\n",
        "test_data_file = open(\"sample_data/mnist_test.csv\", 'r')\n",
        "test_data_list = test_data_file.readlines()\n",
        "test_data_file.close()"
      ],
      "execution_count": 0,
      "outputs": []
    },
    {
      "cell_type": "code",
      "metadata": {
        "id": "ihxgrL4Ebqm0",
        "colab_type": "code",
        "colab": {}
      },
      "source": [
        "# test the neural network\n",
        "\n",
        "# scorecard for how well the network performs, initially empty\n",
        "scorecard = []\n",
        "\n",
        "# go through all the records in the test data set\n",
        "for record in test_data_list:\n",
        "    # split the record by the ',' commas\n",
        "    all_values = record.split(',')\n",
        "    # correct answer is first value\n",
        "    correct_label = int(all_values[0])\n",
        "    # scale and shift the inputs\n",
        "    inputs = (numpy.asfarray(all_values[1:]) / 255.0 * 0.99) + 0.01\n",
        "    # query the network\n",
        "    outputs = brain.query(inputs)\n",
        "    # the index of the highest value corresponds to the label\n",
        "    label = numpy.argmax(outputs)\n",
        "    # append correct or incorrect to list\n",
        "    if label == correct_label:\n",
        "        # network's answer matches correct answer, add 1 to scorecard\n",
        "        scorecard.append(1)\n",
        "    else:\n",
        "        # network's answer doesn't match correct answer, add 0 to scorecard\n",
        "        scorecard.append(0)\n",
        "        pass\n",
        "    pass"
      ],
      "execution_count": 0,
      "outputs": []
    },
    {
      "cell_type": "code",
      "metadata": {
        "id": "3UqpkoGsbrpI",
        "colab_type": "code",
        "colab": {
          "base_uri": "https://localhost:8080/",
          "height": 34
        },
        "outputId": "2d5c9ad0-4b40-421c-f82a-b50b5df6a706"
      },
      "source": [
        "# calculate the performance score, the fraction of correct answers\n",
        "scorecard_array = numpy.asarray(scorecard)\n",
        "print(\"The accuracy of your digit image classifier is: \"+str( (scorecard_array.sum() / scorecard_array.size) *100)+\"%!\")"
      ],
      "execution_count": 20,
      "outputs": [
        {
          "output_type": "stream",
          "text": [
            "The accuracy of your digit image classifier is: 96.67999999999999%!\n"
          ],
          "name": "stdout"
        }
      ]
    }
  ]
}